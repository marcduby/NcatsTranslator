{
 "cells": [
  {
   "cell_type": "code",
   "execution_count": 2,
   "metadata": {},
   "outputs": [
    {
     "output_type": "stream",
     "name": "stdout",
     "text": "the json version is 2.0.9\nthe pandas version is 1.0.4\n"
    }
   ],
   "source": [
    "# imports\n",
    "import json\n",
    "import pandas as pd \n",
    "\n",
    "import sys; sys.path.insert(0, '../../..')\n",
    "import Lib.my_translator as trans \n",
    "\n",
    "print(\"the json version is {}\".format(json.__version__))\n",
    "print(\"the pandas version is {}\".format(pd.__version__))"
   ]
  },
  {
   "cell_type": "code",
   "execution_count": 5,
   "metadata": {},
   "outputs": [],
   "source": [
    "# molecular provider urls\n",
    "molecular_url = 'https://translator.broadinstitute.org/molepro_reasoner'\n",
    "molecular_query_url = genetics_url + \"/query\""
   ]
  },
  {
   "cell_type": "code",
   "execution_count": 6,
   "metadata": {},
   "outputs": [
    {
     "output_type": "execute_result",
     "data": {
      "text/plain": "   id      source_id            target_id        type source_type  \\\n0  e0  MONDO:0021668  ChEMBL:CHEMBL298470  treated_by     disease   \n1  e1  MONDO:0021668      ChEMBL:CHEMBL36  treated_by     disease   \n2  e2  MONDO:0021668    ChEMBL:CHEMBL1294  treated_by     disease   \n3  e3  MONDO:0021668  ChEMBL:CHEMBL303933  treated_by     disease   \n4  e4  MONDO:0021668  ChEMBL:CHEMBL307261  treated_by     disease   \n\n          target_type  \n0  chemical_substance  \n1  chemical_substance  \n2  chemical_substance  \n3  chemical_substance  \n4  chemical_substance  ",
      "text/html": "<div>\n<style scoped>\n    .dataframe tbody tr th:only-of-type {\n        vertical-align: middle;\n    }\n\n    .dataframe tbody tr th {\n        vertical-align: top;\n    }\n\n    .dataframe thead th {\n        text-align: right;\n    }\n</style>\n<table border=\"1\" class=\"dataframe\">\n  <thead>\n    <tr style=\"text-align: right;\">\n      <th></th>\n      <th>id</th>\n      <th>source_id</th>\n      <th>target_id</th>\n      <th>type</th>\n      <th>source_type</th>\n      <th>target_type</th>\n    </tr>\n  </thead>\n  <tbody>\n    <tr>\n      <th>0</th>\n      <td>e0</td>\n      <td>MONDO:0021668</td>\n      <td>ChEMBL:CHEMBL298470</td>\n      <td>treated_by</td>\n      <td>disease</td>\n      <td>chemical_substance</td>\n    </tr>\n    <tr>\n      <th>1</th>\n      <td>e1</td>\n      <td>MONDO:0021668</td>\n      <td>ChEMBL:CHEMBL36</td>\n      <td>treated_by</td>\n      <td>disease</td>\n      <td>chemical_substance</td>\n    </tr>\n    <tr>\n      <th>2</th>\n      <td>e2</td>\n      <td>MONDO:0021668</td>\n      <td>ChEMBL:CHEMBL1294</td>\n      <td>treated_by</td>\n      <td>disease</td>\n      <td>chemical_substance</td>\n    </tr>\n    <tr>\n      <th>3</th>\n      <td>e3</td>\n      <td>MONDO:0021668</td>\n      <td>ChEMBL:CHEMBL303933</td>\n      <td>treated_by</td>\n      <td>disease</td>\n      <td>chemical_substance</td>\n    </tr>\n    <tr>\n      <th>4</th>\n      <td>e4</td>\n      <td>MONDO:0021668</td>\n      <td>ChEMBL:CHEMBL307261</td>\n      <td>treated_by</td>\n      <td>disease</td>\n      <td>chemical_substance</td>\n    </tr>\n  </tbody>\n</table>\n</div>"
     },
     "metadata": {},
     "execution_count": 6
    }
   ],
   "source": [
    "# get a dataframe from query call\n",
    "query_df = trans.query_map_df('disease', 'MONDO:0021668', 'chemical_substance', 'treated_by', molecular_query_url)\n",
    "\n",
    "query_df.head()"
   ]
  },
  {
   "cell_type": "code",
   "execution_count": null,
   "metadata": {},
   "outputs": [],
   "source": []
  }
 ],
 "metadata": {
  "language_info": {
   "codemirror_mode": {
    "name": "ipython",
    "version": 3
   },
   "file_extension": ".py",
   "mimetype": "text/x-python",
   "name": "python",
   "nbconvert_exporter": "python",
   "pygments_lexer": "ipython3",
   "version": "3.6.9-final"
  },
  "orig_nbformat": 2,
  "kernelspec": {
   "name": "python36964bit8f227c4dd76346c3b8bc7b7f3ce5678e",
   "display_name": "Python 3.6.9 64-bit"
  }
 },
 "nbformat": 4,
 "nbformat_minor": 2
}