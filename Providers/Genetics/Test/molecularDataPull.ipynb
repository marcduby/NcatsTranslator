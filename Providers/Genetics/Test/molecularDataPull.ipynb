{
 "cells": [
  {
   "cell_type": "code",
   "execution_count": 1,
   "metadata": {},
   "outputs": [
    {
     "output_type": "stream",
     "name": "stdout",
     "text": "the json version is 2.0.9\nthe pandas version is 1.0.4\n"
    }
   ],
   "source": [
    "# imports\n",
    "import json\n",
    "import pandas as pd \n",
    "\n",
    "import sys; sys.path.insert(0, '../../..')\n",
    "import Lib.my_translator as trans \n",
    "\n",
    "print(\"the json version is {}\".format(json.__version__))\n",
    "print(\"the pandas version is {}\".format(pd.__version__))"
   ]
  },
  {
   "cell_type": "code",
   "execution_count": 2,
   "metadata": {},
   "outputs": [],
   "source": [
    "# molecular provider urls\n",
    "molecular_url = 'https://translator.broadinstitute.org/molepro_reasoner'\n",
    "molecular_query_url = molecular_url + \"/query\""
   ]
  },
  {
   "cell_type": "code",
   "execution_count": 3,
   "metadata": {},
   "outputs": [
    {
     "output_type": "stream",
     "name": "stdout",
     "text": "got 51 row dataframe\n"
    }
   ],
   "source": [
    "# get a dataframe from query call\n",
    "query_df = trans.query_map_df('disease', 'MONDO:0021668', 'chemical_substance', 'treated_by', molecular_query_url)\n"
   ]
  },
  {
   "cell_type": "code",
   "execution_count": 4,
   "metadata": {},
   "outputs": [
    {
     "output_type": "execute_result",
     "data": {
      "text/plain": "     id      source_id             target_id        type source_type  \\\n0    e0  MONDO:0021668  ChEMBL:CHEMBL2106966  treated_by     disease   \n1    e1  MONDO:0021668   ChEMBL:CHEMBL413965  treated_by     disease   \n2    e2  MONDO:0021668    ChEMBL:CHEMBL94081  treated_by     disease   \n3    e3  MONDO:0021668  ChEMBL:CHEMBL2103954  treated_by     disease   \n4    e4  MONDO:0021668    ChEMBL:CHEMBL23588  treated_by     disease   \n5    e5  MONDO:0021668    ChEMBL:CHEMBL12610  treated_by     disease   \n6    e6  MONDO:0021668   ChEMBL:CHEMBL592943  treated_by     disease   \n7    e7  MONDO:0021668      ChEMBL:CHEMBL622  treated_by     disease   \n8    e8  MONDO:0021668      ChEMBL:CHEMBL112  treated_by     disease   \n9    e9  MONDO:0021668     ChEMBL:CHEMBL1261  treated_by     disease   \n10  e10  MONDO:0021668  ChEMBL:CHEMBL1201776  treated_by     disease   \n11  e11  MONDO:0021668      ChEMBL:CHEMBL607  treated_by     disease   \n12  e12  MONDO:0021668      ChEMBL:CHEMBL113  treated_by     disease   \n13  e13  MONDO:0021668     ChEMBL:CHEMBL1685  treated_by     disease   \n14  e14  MONDO:0021668      ChEMBL:CHEMBL122  treated_by     disease   \n15  e15  MONDO:0021668    ChEMBL:CHEMBL33986  treated_by     disease   \n16  e16  MONDO:0021668      ChEMBL:CHEMBL963  treated_by     disease   \n17  e17  MONDO:0021668     ChEMBL:CHEMBL1077  treated_by     disease   \n18  e18  MONDO:0021668      ChEMBL:CHEMBL485  treated_by     disease   \n19  e19  MONDO:0021668      ChEMBL:CHEMBL521  treated_by     disease   \n\n           target_type  \n0   chemical_substance  \n1   chemical_substance  \n2   chemical_substance  \n3   chemical_substance  \n4   chemical_substance  \n5   chemical_substance  \n6   chemical_substance  \n7   chemical_substance  \n8   chemical_substance  \n9   chemical_substance  \n10  chemical_substance  \n11  chemical_substance  \n12  chemical_substance  \n13  chemical_substance  \n14  chemical_substance  \n15  chemical_substance  \n16  chemical_substance  \n17  chemical_substance  \n18  chemical_substance  \n19  chemical_substance  ",
      "text/html": "<div>\n<style scoped>\n    .dataframe tbody tr th:only-of-type {\n        vertical-align: middle;\n    }\n\n    .dataframe tbody tr th {\n        vertical-align: top;\n    }\n\n    .dataframe thead th {\n        text-align: right;\n    }\n</style>\n<table border=\"1\" class=\"dataframe\">\n  <thead>\n    <tr style=\"text-align: right;\">\n      <th></th>\n      <th>id</th>\n      <th>source_id</th>\n      <th>target_id</th>\n      <th>type</th>\n      <th>source_type</th>\n      <th>target_type</th>\n    </tr>\n  </thead>\n  <tbody>\n    <tr>\n      <th>0</th>\n      <td>e0</td>\n      <td>MONDO:0021668</td>\n      <td>ChEMBL:CHEMBL2106966</td>\n      <td>treated_by</td>\n      <td>disease</td>\n      <td>chemical_substance</td>\n    </tr>\n    <tr>\n      <th>1</th>\n      <td>e1</td>\n      <td>MONDO:0021668</td>\n      <td>ChEMBL:CHEMBL413965</td>\n      <td>treated_by</td>\n      <td>disease</td>\n      <td>chemical_substance</td>\n    </tr>\n    <tr>\n      <th>2</th>\n      <td>e2</td>\n      <td>MONDO:0021668</td>\n      <td>ChEMBL:CHEMBL94081</td>\n      <td>treated_by</td>\n      <td>disease</td>\n      <td>chemical_substance</td>\n    </tr>\n    <tr>\n      <th>3</th>\n      <td>e3</td>\n      <td>MONDO:0021668</td>\n      <td>ChEMBL:CHEMBL2103954</td>\n      <td>treated_by</td>\n      <td>disease</td>\n      <td>chemical_substance</td>\n    </tr>\n    <tr>\n      <th>4</th>\n      <td>e4</td>\n      <td>MONDO:0021668</td>\n      <td>ChEMBL:CHEMBL23588</td>\n      <td>treated_by</td>\n      <td>disease</td>\n      <td>chemical_substance</td>\n    </tr>\n    <tr>\n      <th>5</th>\n      <td>e5</td>\n      <td>MONDO:0021668</td>\n      <td>ChEMBL:CHEMBL12610</td>\n      <td>treated_by</td>\n      <td>disease</td>\n      <td>chemical_substance</td>\n    </tr>\n    <tr>\n      <th>6</th>\n      <td>e6</td>\n      <td>MONDO:0021668</td>\n      <td>ChEMBL:CHEMBL592943</td>\n      <td>treated_by</td>\n      <td>disease</td>\n      <td>chemical_substance</td>\n    </tr>\n    <tr>\n      <th>7</th>\n      <td>e7</td>\n      <td>MONDO:0021668</td>\n      <td>ChEMBL:CHEMBL622</td>\n      <td>treated_by</td>\n      <td>disease</td>\n      <td>chemical_substance</td>\n    </tr>\n    <tr>\n      <th>8</th>\n      <td>e8</td>\n      <td>MONDO:0021668</td>\n      <td>ChEMBL:CHEMBL112</td>\n      <td>treated_by</td>\n      <td>disease</td>\n      <td>chemical_substance</td>\n    </tr>\n    <tr>\n      <th>9</th>\n      <td>e9</td>\n      <td>MONDO:0021668</td>\n      <td>ChEMBL:CHEMBL1261</td>\n      <td>treated_by</td>\n      <td>disease</td>\n      <td>chemical_substance</td>\n    </tr>\n    <tr>\n      <th>10</th>\n      <td>e10</td>\n      <td>MONDO:0021668</td>\n      <td>ChEMBL:CHEMBL1201776</td>\n      <td>treated_by</td>\n      <td>disease</td>\n      <td>chemical_substance</td>\n    </tr>\n    <tr>\n      <th>11</th>\n      <td>e11</td>\n      <td>MONDO:0021668</td>\n      <td>ChEMBL:CHEMBL607</td>\n      <td>treated_by</td>\n      <td>disease</td>\n      <td>chemical_substance</td>\n    </tr>\n    <tr>\n      <th>12</th>\n      <td>e12</td>\n      <td>MONDO:0021668</td>\n      <td>ChEMBL:CHEMBL113</td>\n      <td>treated_by</td>\n      <td>disease</td>\n      <td>chemical_substance</td>\n    </tr>\n    <tr>\n      <th>13</th>\n      <td>e13</td>\n      <td>MONDO:0021668</td>\n      <td>ChEMBL:CHEMBL1685</td>\n      <td>treated_by</td>\n      <td>disease</td>\n      <td>chemical_substance</td>\n    </tr>\n    <tr>\n      <th>14</th>\n      <td>e14</td>\n      <td>MONDO:0021668</td>\n      <td>ChEMBL:CHEMBL122</td>\n      <td>treated_by</td>\n      <td>disease</td>\n      <td>chemical_substance</td>\n    </tr>\n    <tr>\n      <th>15</th>\n      <td>e15</td>\n      <td>MONDO:0021668</td>\n      <td>ChEMBL:CHEMBL33986</td>\n      <td>treated_by</td>\n      <td>disease</td>\n      <td>chemical_substance</td>\n    </tr>\n    <tr>\n      <th>16</th>\n      <td>e16</td>\n      <td>MONDO:0021668</td>\n      <td>ChEMBL:CHEMBL963</td>\n      <td>treated_by</td>\n      <td>disease</td>\n      <td>chemical_substance</td>\n    </tr>\n    <tr>\n      <th>17</th>\n      <td>e17</td>\n      <td>MONDO:0021668</td>\n      <td>ChEMBL:CHEMBL1077</td>\n      <td>treated_by</td>\n      <td>disease</td>\n      <td>chemical_substance</td>\n    </tr>\n    <tr>\n      <th>18</th>\n      <td>e18</td>\n      <td>MONDO:0021668</td>\n      <td>ChEMBL:CHEMBL485</td>\n      <td>treated_by</td>\n      <td>disease</td>\n      <td>chemical_substance</td>\n    </tr>\n    <tr>\n      <th>19</th>\n      <td>e19</td>\n      <td>MONDO:0021668</td>\n      <td>ChEMBL:CHEMBL521</td>\n      <td>treated_by</td>\n      <td>disease</td>\n      <td>chemical_substance</td>\n    </tr>\n  </tbody>\n</table>\n</div>"
     },
     "metadata": {},
     "execution_count": 4
    }
   ],
   "source": [
    "query_df.head(20)"
   ]
  },
  {
   "cell_type": "code",
   "execution_count": 5,
   "metadata": {},
   "outputs": [
    {
     "output_type": "execute_result",
     "data": {
      "text/plain": "{'knowledge_graph': {'edges': [{'id': 'e0',\n    'source_id': 'MONDO:0021668',\n    'target_id': 'ChEMBL:CHEMBL298470',\n    'type': 'treated_by'},\n   {'id': 'e1',\n    'source_id': 'MONDO:0021668',\n    'target_id': 'ChEMBL:CHEMBL36',\n    'type': 'treated_by'},\n   {'id': 'e2',\n    'source_id': 'MONDO:0021668',\n    'target_id': 'ChEMBL:CHEMBL1294',\n    'type': 'treated_by'},\n   {'id': 'e3',\n    'source_id': 'MONDO:0021668',\n    'target_id': 'ChEMBL:CHEMBL303933',\n    'type': 'treated_by'},\n   {'id': 'e4',\n    'source_id': 'MONDO:0021668',\n    'target_id': 'ChEMBL:CHEMBL307261',\n    'type': 'treated_by'}],\n  'nodes': [{'id': 'MONDO:0021668', 'type': 'disease'},\n   {'id': 'ChEMBL:CHEMBL298470',\n    'name': 'Tafenoquine',\n    'type': 'chemical_substance'},\n   {'id': 'ChEMBL:CHEMBL36',\n    'name': 'Pyrimethamine',\n    'type': 'chemical_substance'},\n   {'id': 'ChEMBL:CHEMBL1294',\n    'name': 'Quinidine',\n    'type': 'chemical_substance'},\n   {'id': 'ChEMBL:CHEMBL303933',\n    'name': 'Piperaquine',\n    'type': 'chemical_substance'},\n   {'id': 'ChEMBL:CHEMBL307261',\n    'name': '(1R,4S,5R,8S,9R,10S,12R,13R)-1,5,9-Trimethyl-11,14,15,16-tetraoxatetracyclo[10.3.1.04,13.08,13]hexadecan-10-ol',\n    'type': 'chemical_substance'}]},\n 'query_graph': {'edges': [{'id': 'e00',\n    'source_id': 'n00',\n    'target_id': 'n01',\n    'type': 'treated_by'}],\n  'nodes': [{'curie': 'MONDO:0021668', 'id': 'n00', 'type': 'disease'},\n   {'id': 'n01', 'type': 'chemical_substance'}]},\n 'results': [{'edge_bindings': [{'kg_id': 'e0', 'qg_id': 'e00'}],\n   'node_bindings': [{'kg_id': 'MONDO:0021668', 'qg_id': 'n00'},\n    {'kg_id': 'ChEMBL:CHEMBL298470', 'qg_id': 'n01'}]},\n  {'edge_bindings': [{'kg_id': 'e1', 'qg_id': 'e00'}],\n   'node_bindings': [{'kg_id': 'MONDO:0021668', 'qg_id': 'n00'},\n    {'kg_id': 'ChEMBL:CHEMBL36', 'qg_id': 'n01'}]},\n  {'edge_bindings': [{'kg_id': 'e2', 'qg_id': 'e00'}],\n   'node_bindings': [{'kg_id': 'MONDO:0021668', 'qg_id': 'n00'},\n    {'kg_id': 'ChEMBL:CHEMBL1294', 'qg_id': 'n01'}]},\n  {'edge_bindings': [{'kg_id': 'e3', 'qg_id': 'e00'}],\n   'node_bindings': [{'kg_id': 'MONDO:0021668', 'qg_id': 'n00'},\n    {'kg_id': 'ChEMBL:CHEMBL303933', 'qg_id': 'n01'}]},\n  {'edge_bindings': [{'kg_id': 'e4', 'qg_id': 'e00'}],\n   'node_bindings': [{'kg_id': 'MONDO:0021668', 'qg_id': 'n00'},\n    {'kg_id': 'ChEMBL:CHEMBL307261', 'qg_id': 'n01'}]}]}"
     },
     "metadata": {},
     "execution_count": 5
    }
   ],
   "source": [
    "# test the json response\n",
    "query_json = trans.query_map_json('disease', 'MONDO:0021668', 'chemical_substance', 'treated_by', molecular_query_url)\n",
    "\n",
    "query_json"
   ]
  },
  {
   "cell_type": "code",
   "execution_count": null,
   "metadata": {},
   "outputs": [],
   "source": []
  }
 ],
 "metadata": {
  "language_info": {
   "codemirror_mode": {
    "name": "ipython",
    "version": 3
   },
   "file_extension": ".py",
   "mimetype": "text/x-python",
   "name": "python",
   "nbconvert_exporter": "python",
   "pygments_lexer": "ipython3",
   "version": "3.6.9-final"
  },
  "orig_nbformat": 2,
  "kernelspec": {
   "name": "python36964bit8f227c4dd76346c3b8bc7b7f3ce5678e",
   "display_name": "Python 3.6.9 64-bit"
  }
 },
 "nbformat": 4,
 "nbformat_minor": 2
}