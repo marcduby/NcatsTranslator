{
 "cells": [
  {
   "cell_type": "code",
   "execution_count": 1,
   "metadata": {},
   "outputs": [
    {
     "output_type": "stream",
     "name": "stdout",
     "text": "the json version is 2.0.9\n"
    }
   ],
   "source": [
    "# imports\n",
    "import json\n",
    "import requests\n",
    "\n",
    "import sys; sys.path.insert(0, '../../..')\n",
    "from Lib.my_translator import  create_query_map\n",
    "from Lib.my_translator import  query_map\n",
    "\n",
    "print(\"the json version is {}\".format(json.__version__))"
   ]
  },
  {
   "cell_type": "code",
   "execution_count": 4,
   "metadata": {},
   "outputs": [],
   "source": [
    "# base url to use\n",
    "genetics_url = 'https://translator.broadinstitute.org/genetics_data_provider'\n"
   ]
  },
  {
   "cell_type": "code",
   "execution_count": 5,
   "metadata": {},
   "outputs": [
    {
     "output_type": "stream",
     "name": "stdout",
     "text": "the genetics predicates is \n{'disease': {'gene': ['associated'], 'pathway': ['associated']}, 'gene': {'disease': ['associated'], 'phenotype': ['associated']}, 'pathway': {'disease': ['associated'], 'phenotype': ['associated']}, 'phenotype': {'gene': ['associated'], 'pathway': ['associated']}}\n"
    }
   ],
   "source": [
    "# get the predicates\n",
    "genetics_predicate_url = genetics_url + \"/predicates\"\n",
    "\n",
    "# make the predicates request\n",
    "predicates = requests.get(genetics_predicate_url).json()\n",
    "\n",
    "print(\"the genetics predicates is \\n{}\".format(predicates))"
   ]
  },
  {
   "cell_type": "code",
   "execution_count": 2,
   "metadata": {},
   "outputs": [
    {
     "output_type": "stream",
     "name": "stdout",
     "text": "test map\n"
    },
    {
     "output_type": "execute_result",
     "data": {
      "text/plain": "{'message': {'query_graph': {'edges': [{'id': 'e00',\n     'source_id': 'n00',\n     'target_id': 'n01',\n     'type': 'associated'}],\n   'nodes': [{'id': 'n00', 'curie': 'MONDO:0007455', 'type': 'disease'},\n    {'id': 'n01', 'type': 'pathway'}]}}}"
     },
     "metadata": {},
     "execution_count": 2
    }
   ],
   "source": [
    "# create a query map\n",
    "query_map = query_map('disease', 'MONDO:0007455', 'pathway', 'associated')\n",
    "\n",
    "query_map"
   ]
  },
  {
   "cell_type": "code",
   "execution_count": 6,
   "metadata": {},
   "outputs": [],
   "source": [
    "# get the predicates\n",
    "genetics_query_url = genetics_url + \"/query\"\n"
   ]
  },
  {
   "cell_type": "code",
   "execution_count": 7,
   "metadata": {},
   "outputs": [
    {
     "output_type": "execute_result",
     "data": {
      "text/plain": "{'knowledge_graph': {'edges': [{'id': 'MAGMA_PATHWAY_77076',\n    'score': 3.6872e-09,\n    'score_direction': 'smaller_is_better',\n    'score_name': 'MAGMA-pvalue',\n    'source_id': 'MONDO:0007455',\n    'target_id': 'GO:0051970',\n    'type': 'associated'},\n   {'id': 'MAGMA_PATHWAY_74508',\n    'score': 1.1748e-07,\n    'score_direction': 'smaller_is_better',\n    'score_name': 'MAGMA-pvalue',\n    'source_id': 'MONDO:0007455',\n    'target_id': 'GO:0001067',\n    'type': 'associated'},\n   {'id': 'MAGMA_PATHWAY_79125',\n    'score': 1.479e-07,\n    'score_direction': 'smaller_is_better',\n    'score_name': 'MAGMA-pvalue',\n    'source_id': 'MONDO:0007455',\n    'target_id': 'GO:0003700',\n    'type': 'associated'},\n   {'id': 'MAGMA_PATHWAY_79086',\n    'score': 2.3091e-07,\n    'score_direction': 'smaller_is_better',\n    'score_name': 'MAGMA-pvalue',\n    'source_id': 'MONDO:0007455',\n    'target_id': 'GO:0000987',\n    'type': 'associated'},\n   {'id': 'MAGMA_PATHWAY_70381',\n    'score': 2.5499e-07,\n    'score_direction': 'smaller_is_better',\n    'score_name': 'MAGMA-pvalue',\n    'source_id': 'MONDO:0007455',\n    'target_id': 'GO:0030073',\n    'type': 'associated'},\n   {'id': 'MAGMA_PATHWAY_70941',\n    'score': 2.7368e-07,\n    'score_direction': 'smaller_is_better',\n    'score_name': 'MAGMA-pvalue',\n    'source_id': 'MONDO:0007455',\n    'target_id': 'GO:0031016',\n    'type': 'associated'},\n   {'id': 'MAGMA_PATHWAY_72196',\n    'score': 2.9776e-07,\n    'score_direction': 'smaller_is_better',\n    'score_name': 'MAGMA-pvalue',\n    'source_id': 'MONDO:0007455',\n    'target_id': 'GO:0007191',\n    'type': 'associated'},\n   {'id': 'MAGMA_PATHWAY_78114',\n    'score': 3.0635e-07,\n    'score_direction': 'smaller_is_better',\n    'score_name': 'MAGMA-pvalue',\n    'source_id': 'MONDO:0007455',\n    'target_id': 'GO:1902680',\n    'type': 'associated'},\n   {'id': 'MAGMA_PATHWAY_74720',\n    'score': 3.3683e-07,\n    'score_direction': 'smaller_is_better',\n    'score_name': 'MAGMA-pvalue',\n    'source_id': 'MONDO:0007455',\n    'target_id': 'GO:0003690',\n    'type': 'associated'},\n   {'id': 'MAGMA_PATHWAY_79902',\n    'score': 4.2206e-07,\n    'score_direction': 'smaller_is_better',\n    'score_name': 'MAGMA-pvalue',\n    'source_id': 'MONDO:0007455',\n    'target_id': 'GO:1990837',\n    'type': 'associated'},\n   {'id': 'MAGMA_PATHWAY_70886',\n    'score': 6.0389e-07,\n    'score_direction': 'smaller_is_better',\n    'score_name': 'MAGMA-pvalue',\n    'source_id': 'MONDO:0007455',\n    'target_id': 'GO:0010628',\n    'type': 'associated'},\n   {'id': 'MAGMA_PATHWAY_77221',\n    'score': 9.7096e-07,\n    'score_direction': 'smaller_is_better',\n    'score_name': 'MAGMA-pvalue',\n    'source_id': 'MONDO:0007455',\n    'target_id': 'GO:0060681',\n    'type': 'associated'},\n   {'id': 'MAGMA_PATHWAY_70677',\n    'score': 9.7257e-07,\n    'score_direction': 'smaller_is_better',\n    'score_name': 'MAGMA-pvalue',\n    'source_id': 'MONDO:0007455',\n    'target_id': 'GO:0009891',\n    'type': 'associated'},\n   {'id': 'MAGMA_PATHWAY_78356',\n    'score': 1.9332e-06,\n    'score_direction': 'smaller_is_better',\n    'score_name': 'MAGMA-pvalue',\n    'source_id': 'MONDO:0007455',\n    'target_id': 'GO:1905288',\n    'type': 'associated'}],\n  'nodes': [{'id': 'MONDO:0007455', 'type': 'disease'},\n   {'id': 'GO:0051970', 'type': 'pathway'},\n   {'id': 'GO:0001067', 'type': 'pathway'},\n   {'id': 'GO:0003700', 'type': 'pathway'},\n   {'id': 'GO:0000987', 'type': 'pathway'},\n   {'id': 'GO:0030073', 'type': 'pathway'},\n   {'id': 'GO:0031016', 'type': 'pathway'},\n   {'id': 'GO:0007191', 'type': 'pathway'},\n   {'id': 'GO:1902680', 'type': 'pathway'},\n   {'id': 'GO:0003690', 'type': 'pathway'},\n   {'id': 'GO:1990837', 'type': 'pathway'},\n   {'id': 'GO:0010628', 'type': 'pathway'},\n   {'id': 'GO:0060681', 'type': 'pathway'},\n   {'id': 'GO:0009891', 'type': 'pathway'},\n   {'id': 'GO:1905288', 'type': 'pathway'}]},\n 'message': {'query_graph': {'edges': [{'id': 'e00',\n     'source_id': 'n00',\n     'target_id': 'n01',\n     'type': 'associated'}],\n   'nodes': [{'curie': 'MONDO:0007455', 'id': 'n00', 'type': 'disease'},\n    {'id': 'n01', 'type': 'pathway'}]}},\n 'results': [{'edge_bindings': [{'kg_id': 'MAGMA_PATHWAY_77076',\n     'qg_id': 'e00'}],\n   'node_bindings': [{'kg_id': 'MONDO:0007455', 'qg_id': 'n00'},\n    {'kg_id': 'GO:0051970', 'qg_id': 'n01'}]},\n  {'edge_bindings': [{'kg_id': 'MAGMA_PATHWAY_74508', 'qg_id': 'e00'}],\n   'node_bindings': [{'kg_id': 'MONDO:0007455', 'qg_id': 'n00'},\n    {'kg_id': 'GO:0001067', 'qg_id': 'n01'}]},\n  {'edge_bindings': [{'kg_id': 'MAGMA_PATHWAY_79125', 'qg_id': 'e00'}],\n   'node_bindings': [{'kg_id': 'MONDO:0007455', 'qg_id': 'n00'},\n    {'kg_id': 'GO:0003700', 'qg_id': 'n01'}]},\n  {'edge_bindings': [{'kg_id': 'MAGMA_PATHWAY_79086', 'qg_id': 'e00'}],\n   'node_bindings': [{'kg_id': 'MONDO:0007455', 'qg_id': 'n00'},\n    {'kg_id': 'GO:0000987', 'qg_id': 'n01'}]},\n  {'edge_bindings': [{'kg_id': 'MAGMA_PATHWAY_70381', 'qg_id': 'e00'}],\n   'node_bindings': [{'kg_id': 'MONDO:0007455', 'qg_id': 'n00'},\n    {'kg_id': 'GO:0030073', 'qg_id': 'n01'}]},\n  {'edge_bindings': [{'kg_id': 'MAGMA_PATHWAY_70941', 'qg_id': 'e00'}],\n   'node_bindings': [{'kg_id': 'MONDO:0007455', 'qg_id': 'n00'},\n    {'kg_id': 'GO:0031016', 'qg_id': 'n01'}]},\n  {'edge_bindings': [{'kg_id': 'MAGMA_PATHWAY_72196', 'qg_id': 'e00'}],\n   'node_bindings': [{'kg_id': 'MONDO:0007455', 'qg_id': 'n00'},\n    {'kg_id': 'GO:0007191', 'qg_id': 'n01'}]},\n  {'edge_bindings': [{'kg_id': 'MAGMA_PATHWAY_78114', 'qg_id': 'e00'}],\n   'node_bindings': [{'kg_id': 'MONDO:0007455', 'qg_id': 'n00'},\n    {'kg_id': 'GO:1902680', 'qg_id': 'n01'}]},\n  {'edge_bindings': [{'kg_id': 'MAGMA_PATHWAY_74720', 'qg_id': 'e00'}],\n   'node_bindings': [{'kg_id': 'MONDO:0007455', 'qg_id': 'n00'},\n    {'kg_id': 'GO:0003690', 'qg_id': 'n01'}]},\n  {'edge_bindings': [{'kg_id': 'MAGMA_PATHWAY_79902', 'qg_id': 'e00'}],\n   'node_bindings': [{'kg_id': 'MONDO:0007455', 'qg_id': 'n00'},\n    {'kg_id': 'GO:1990837', 'qg_id': 'n01'}]},\n  {'edge_bindings': [{'kg_id': 'MAGMA_PATHWAY_70886', 'qg_id': 'e00'}],\n   'node_bindings': [{'kg_id': 'MONDO:0007455', 'qg_id': 'n00'},\n    {'kg_id': 'GO:0010628', 'qg_id': 'n01'}]},\n  {'edge_bindings': [{'kg_id': 'MAGMA_PATHWAY_77221', 'qg_id': 'e00'}],\n   'node_bindings': [{'kg_id': 'MONDO:0007455', 'qg_id': 'n00'},\n    {'kg_id': 'GO:0060681', 'qg_id': 'n01'}]},\n  {'edge_bindings': [{'kg_id': 'MAGMA_PATHWAY_70677', 'qg_id': 'e00'}],\n   'node_bindings': [{'kg_id': 'MONDO:0007455', 'qg_id': 'n00'},\n    {'kg_id': 'GO:0009891', 'qg_id': 'n01'}]},\n  {'edge_bindings': [{'kg_id': 'MAGMA_PATHWAY_78356', 'qg_id': 'e00'}],\n   'node_bindings': [{'kg_id': 'MONDO:0007455', 'qg_id': 'n00'},\n    {'kg_id': 'GO:1905288', 'qg_id': 'n01'}]}]}"
     },
     "metadata": {},
     "execution_count": 7
    }
   ],
   "source": [
    "# query the genetics reasoner\n",
    "response = requests.post(genetics_query_url, json=query_map).json()\n",
    "response"
   ]
  },
  {
   "cell_type": "code",
   "execution_count": null,
   "metadata": {},
   "outputs": [],
   "source": []
  }
 ],
 "metadata": {
  "language_info": {
   "codemirror_mode": {
    "name": "ipython",
    "version": 3
   },
   "file_extension": ".py",
   "mimetype": "text/x-python",
   "name": "python",
   "nbconvert_exporter": "python",
   "pygments_lexer": "ipython3",
   "version": "3.7.6-final"
  },
  "orig_nbformat": 2,
  "kernelspec": {
   "name": "python37664bittranslator37venvf1cbf396f456470aa90abfc234e01009",
   "display_name": "Python 3.7.6 64-bit ('translator_37': venv)"
  }
 },
 "nbformat": 4,
 "nbformat_minor": 2
}