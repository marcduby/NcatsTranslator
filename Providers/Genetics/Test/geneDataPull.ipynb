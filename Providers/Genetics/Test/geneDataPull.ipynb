{
 "cells": [
  {
   "cell_type": "code",
   "execution_count": 1,
   "metadata": {},
   "outputs": [
    {
     "output_type": "stream",
     "name": "stdout",
     "text": "the json version is 2.0.9\n"
    }
   ],
   "source": [
    "# imports\n",
    "import json\n",
    "import requests\n",
    "\n",
    "import sys; sys.path.insert(0, '../../..')\n",
    "from Lib.my_translator import  create_query_map\n",
    "from Lib.my_translator import  query_map\n",
    "\n",
    "print(\"the json version is {}\".format(json.__version__))"
   ]
  },
  {
   "cell_type": "code",
   "execution_count": 4,
   "metadata": {},
   "outputs": [],
   "source": [
    "# base url to use\n",
    "genetics_url = 'https://translator.broadinstitute.org/genetics_data_provider'\n"
   ]
  },
  {
   "cell_type": "code",
   "execution_count": 5,
   "metadata": {},
   "outputs": [
    {
     "output_type": "stream",
     "name": "stdout",
     "text": "the genetics predicates is \n{'disease': {'gene': ['associated'], 'pathway': ['associated']}, 'gene': {'disease': ['associated'], 'phenotype': ['associated']}, 'pathway': {'disease': ['associated'], 'phenotype': ['associated']}, 'phenotype': {'gene': ['associated'], 'pathway': ['associated']}}\n"
    }
   ],
   "source": [
    "# get the predicates\n",
    "genetics_predicate_url = genetics_url + \"/predicates\"\n",
    "\n",
    "# make the predicates request\n",
    "predicates = requests.get(genetics_predicate_url).json()\n",
    "\n",
    "print(\"the genetics predicates is \\n{}\".format(predicates))"
   ]
  },
  {
   "cell_type": "code",
   "execution_count": 2,
   "metadata": {},
   "outputs": [
    {
     "output_type": "stream",
     "name": "stdout",
     "text": "test map\n"
    },
    {
     "output_type": "execute_result",
     "data": {
      "text/plain": "{'message': {'query_graph': {'edges': [{'id': 'e00',\n     'source_id': 'n00',\n     'target_id': 'n01',\n     'type': 'associated'}],\n   'nodes': [{'id': 'n00', 'curie': 'MONDO:0007455', 'type': 'disease'},\n    {'id': 'n01', 'type': 'pathway'}]}}}"
     },
     "metadata": {},
     "execution_count": 2
    }
   ],
   "source": [
    "# create a query map\n",
    "query_map = query_map('disease', 'MONDO:0007455', 'pathway', 'associated')\n",
    "\n",
    "query_map"
   ]
  },
  {
   "cell_type": "code",
   "execution_count": 6,
   "metadata": {},
   "outputs": [],
   "source": [
    "# get the predicates\n",
    "genetics_query_url = genetics_url + \"/query\"\n"
   ]
  },
  {
   "cell_type": "code",
   "execution_count": 7,
   "metadata": {},
   "outputs": [
    {
     "output_type": "execute_result",
     "data": {
      "text/plain": "{'knowledge_graph': {'edges': [{'id': 'MAGMA_PATHWAY_77076',\n    'score': 3.6872e-09,\n    'score_direction': 'smaller_is_better',\n    'score_name': 'MAGMA-pvalue',\n    'source_id': 'MONDO:0007455',\n    'target_id': 'GO:0051970',\n    'type': 'associated'},\n   {'id': 'MAGMA_PATHWAY_74508',\n    'score': 1.1748e-07,\n    'score_direction': 'smaller_is_better',\n    'score_name': 'MAGMA-pvalue',\n    'source_id': 'MONDO:0007455',\n    'target_id': 'GO:0001067',\n    'type': 'associated'},\n   {'id': 'MAGMA_PATHWAY_79125',\n    'score': 1.479e-07,\n    'score_direction': 'smaller_is_better',\n    'score_name': 'MAGMA-pvalue',\n    'source_id': 'MONDO:0007455',\n    'target_id': 'GO:0003700',\n    'type': 'associated'},\n   {'id': 'MAGMA_PATHWAY_79086',\n    'score': 2.3091e-07,\n    'score_direction': 'smaller_is_better',\n    'score_name': 'MAGMA-pvalue',\n    'source_id': 'MONDO:0007455',\n    'target_id': 'GO:0000987',\n    'type': 'associated'},\n   {'id': 'MAGMA_PATHWAY_70381',\n    'score': 2.5499e-07,\n    'score_direction': 'smaller_is_better',\n    'score_name': 'MAGMA-pvalue',\n    'source_id': 'MONDO:0007455',\n    'target_id': 'GO:0030073',\n    'type': 'associated'},\n   {'id': 'MAGMA_PATHWAY_70941',\n    'score': 2.7368e-07,\n    'score_direction': 'smaller_is_better',\n    'score_name': 'MAGMA-pvalue',\n    'source_id': 'MONDO:0007455',\n    'target_id': 'GO:0031016',\n    'type': 'associated'},\n   {'id': 'MAGMA_PATHWAY_72196',\n    'score': 2.9776e-07,\n    'score_direction': 'smaller_is_better',\n    'score_name': 'MAGMA-pvalue',\n    'source_id': 'MONDO:0007455',\n    'target_id': 'GO:0007191',\n    'type': 'associated'},\n   {'id': 'MAGMA_PATHWAY_78114',\n    'score': 3.0635e-07,\n    'score_direction': 'smaller_is_better',\n    'score_name': 'MAGMA-pvalue',\n    'source_id': 'MONDO:0007455',\n    'target_id': 'GO:1902680',\n    'type': 'associated'},\n   {'id': 'MAGMA_PATHWAY_74720',\n    'score': 3.3683e-07,\n    'score_direction': 'smaller_is_better',\n    'score_name': 'MAGMA-pvalue',\n    'source_id': 'MONDO:0007455',\n    'target_id': 'GO:0003690',\n    'type': 'associated'},\n   {'id': 'MAGMA_PATHWAY_79902',\n    'score': 4.2206e-07,\n    'score_direction': 'smaller_is_better',\n    'score_name': 'MAGMA-pvalue',\n    'source_id': 'MONDO:0007455',\n    'target_id': 'GO:1990837',\n    'type': 'associated'},\n   {'id': 'MAGMA_PATHWAY_70886',\n    'score': 6.0389e-07,\n    'score_direction': 'smaller_is_better',\n    'score_name': 'MAGMA-pvalue',\n    'source_id': 'MONDO:0007455',\n    'target_id': 'GO:0010628',\n    'type': 'associated'},\n   {'id': 'MAGMA_PATHWAY_77221',\n    'score': 9.7096e-07,\n    'score_direction': 'smaller_is_better',\n    'score_name': 'MAGMA-pvalue',\n    'source_id': 'MONDO:0007455',\n    'target_id': 'GO:0060681',\n    'type': 'associated'},\n   {'id': 'MAGMA_PATHWAY_70677',\n    'score': 9.7257e-07,\n    'score_direction': 'smaller_is_better',\n    'score_name': 'MAGMA-pvalue',\n    'source_id': 'MONDO:0007455',\n    'target_id': 'GO:0009891',\n    'type': 'associated'},\n   {'id': 'MAGMA_PATHWAY_78356',\n    'score': 1.9332e-06,\n    'score_direction': 'smaller_is_better',\n    'score_name': 'MAGMA-pvalue',\n    'source_id': 'MONDO:0007455',\n    'target_id': 'GO:1905288',\n    'type': 'associated'}],\n  'nodes': [{'id': 'MONDO:0007455', 'type': 'disease'},\n   {'id': 'GO:0051970', 'type': 'pathway'},\n   {'id': 'GO:0001067', 'type': 'pathway'},\n   {'id': 'GO:0003700', 'type': 'pathway'},\n   {'id': 'GO:0000987', 'type': 'pathway'},\n   {'id': 'GO:0030073', 'type': 'pathway'},\n   {'id': 'GO:0031016', 'type': 'pathway'},\n   {'id': 'GO:0007191', 'type': 'pathway'},\n   {'id': 'GO:1902680', 'type': 'pathway'},\n   {'id': 'GO:0003690', 'type': 'pathway'},\n   {'id': 'GO:1990837', 'type': 'pathway'},\n   {'id': 'GO:0010628', 'type': 'pathway'},\n   {'id': 'GO:0060681', 'type': 'pathway'},\n   {'id': 'GO:0009891', 'type': 'pathway'},\n   {'id': 'GO:1905288', 'type': 'pathway'}]},\n 'message': {'query_graph': {'edges': [{'id': 'e00',\n     'source_id': 'n00',\n     'target_id': 'n01',\n     'type': 'associated'}],\n   'nodes': [{'curie': 'MONDO:0007455', 'id': 'n00', 'type': 'disease'},\n    {'id': 'n01', 'type': 'pathway'}]}},\n 'results': [{'edge_bindings': [{'kg_id': 'MAGMA_PATHWAY_77076',\n     'qg_id': 'e00'}],\n   'node_bindings': [{'kg_id': 'MONDO:0007455', 'qg_id': 'n00'},\n    {'kg_id': 'GO:0051970', 'qg_id': 'n01'}]},\n  {'edge_bindings': [{'kg_id': 'MAGMA_PATHWAY_74508', 'qg_id': 'e00'}],\n   'node_bindings': [{'kg_id': 'MONDO:0007455', 'qg_id': 'n00'},\n    {'kg_id': 'GO:0001067', 'qg_id': 'n01'}]},\n  {'edge_bindings': [{'kg_id': 'MAGMA_PATHWAY_79125', 'qg_id': 'e00'}],\n   'node_bindings': [{'kg_id': 'MONDO:0007455', 'qg_id': 'n00'},\n    {'kg_id': 'GO:0003700', 'qg_id': 'n01'}]},\n  {'edge_bindings': [{'kg_id': 'MAGMA_PATHWAY_79086', 'qg_id': 'e00'}],\n   'node_bindings': [{'kg_id': 'MONDO:0007455', 'qg_id': 'n00'},\n    {'kg_id': 'GO:0000987', 'qg_id': 'n01'}]},\n  {'edge_bindings': [{'kg_id': 'MAGMA_PATHWAY_70381', 'qg_id': 'e00'}],\n   'node_bindings': [{'kg_id': 'MONDO:0007455', 'qg_id': 'n00'},\n    {'kg_id': 'GO:0030073', 'qg_id': 'n01'}]},\n  {'edge_bindings': [{'kg_id': 'MAGMA_PATHWAY_70941', 'qg_id': 'e00'}],\n   'node_bindings': [{'kg_id': 'MONDO:0007455', 'qg_id': 'n00'},\n    {'kg_id': 'GO:0031016', 'qg_id': 'n01'}]},\n  {'edge_bindings': [{'kg_id': 'MAGMA_PATHWAY_72196', 'qg_id': 'e00'}],\n   'node_bindings': [{'kg_id': 'MONDO:0007455', 'qg_id': 'n00'},\n    {'kg_id': 'GO:0007191', 'qg_id': 'n01'}]},\n  {'edge_bindings': [{'kg_id': 'MAGMA_PATHWAY_78114', 'qg_id': 'e00'}],\n   'node_bindings': [{'kg_id': 'MONDO:0007455', 'qg_id': 'n00'},\n    {'kg_id': 'GO:1902680', 'qg_id': 'n01'}]},\n  {'edge_bindings': [{'kg_id': 'MAGMA_PATHWAY_74720', 'qg_id': 'e00'}],\n   'node_bindings': [{'kg_id': 'MONDO:0007455', 'qg_id': 'n00'},\n    {'kg_id': 'GO:0003690', 'qg_id': 'n01'}]},\n  {'edge_bindings': [{'kg_id': 'MAGMA_PATHWAY_79902', 'qg_id': 'e00'}],\n   'node_bindings': [{'kg_id': 'MONDO:0007455', 'qg_id': 'n00'},\n    {'kg_id': 'GO:1990837', 'qg_id': 'n01'}]},\n  {'edge_bindings': [{'kg_id': 'MAGMA_PATHWAY_70886', 'qg_id': 'e00'}],\n   'node_bindings': [{'kg_id': 'MONDO:0007455', 'qg_id': 'n00'},\n    {'kg_id': 'GO:0010628', 'qg_id': 'n01'}]},\n  {'edge_bindings': [{'kg_id': 'MAGMA_PATHWAY_77221', 'qg_id': 'e00'}],\n   'node_bindings': [{'kg_id': 'MONDO:0007455', 'qg_id': 'n00'},\n    {'kg_id': 'GO:0060681', 'qg_id': 'n01'}]},\n  {'edge_bindings': [{'kg_id': 'MAGMA_PATHWAY_70677', 'qg_id': 'e00'}],\n   'node_bindings': [{'kg_id': 'MONDO:0007455', 'qg_id': 'n00'},\n    {'kg_id': 'GO:0009891', 'qg_id': 'n01'}]},\n  {'edge_bindings': [{'kg_id': 'MAGMA_PATHWAY_78356', 'qg_id': 'e00'}],\n   'node_bindings': [{'kg_id': 'MONDO:0007455', 'qg_id': 'n00'},\n    {'kg_id': 'GO:1905288', 'qg_id': 'n01'}]}]}"
     },
     "metadata": {},
     "execution_count": 7
    }
   ],
   "source": [
    "# query the genetics reasoner\n",
    "response = requests.post(genetics_query_url, json=query_map).json()\n",
    "response"
   ]
  },
  {
   "cell_type": "code",
   "execution_count": 13,
   "metadata": {},
   "outputs": [
    {
     "output_type": "execute_result",
     "data": {
      "text/plain": "[{'id': 'MAGMA_PATHWAY_77076',\n  'score': 3.6872e-09,\n  'score_direction': 'smaller_is_better',\n  'score_name': 'MAGMA-pvalue',\n  'source_id': 'MONDO:0007455',\n  'target_id': 'GO:0051970',\n  'type': 'associated'},\n {'id': 'MAGMA_PATHWAY_74508',\n  'score': 1.1748e-07,\n  'score_direction': 'smaller_is_better',\n  'score_name': 'MAGMA-pvalue',\n  'source_id': 'MONDO:0007455',\n  'target_id': 'GO:0001067',\n  'type': 'associated'},\n {'id': 'MAGMA_PATHWAY_79125',\n  'score': 1.479e-07,\n  'score_direction': 'smaller_is_better',\n  'score_name': 'MAGMA-pvalue',\n  'source_id': 'MONDO:0007455',\n  'target_id': 'GO:0003700',\n  'type': 'associated'},\n {'id': 'MAGMA_PATHWAY_79086',\n  'score': 2.3091e-07,\n  'score_direction': 'smaller_is_better',\n  'score_name': 'MAGMA-pvalue',\n  'source_id': 'MONDO:0007455',\n  'target_id': 'GO:0000987',\n  'type': 'associated'},\n {'id': 'MAGMA_PATHWAY_70381',\n  'score': 2.5499e-07,\n  'score_direction': 'smaller_is_better',\n  'score_name': 'MAGMA-pvalue',\n  'source_id': 'MONDO:0007455',\n  'target_id': 'GO:0030073',\n  'type': 'associated'},\n {'id': 'MAGMA_PATHWAY_70941',\n  'score': 2.7368e-07,\n  'score_direction': 'smaller_is_better',\n  'score_name': 'MAGMA-pvalue',\n  'source_id': 'MONDO:0007455',\n  'target_id': 'GO:0031016',\n  'type': 'associated'},\n {'id': 'MAGMA_PATHWAY_72196',\n  'score': 2.9776e-07,\n  'score_direction': 'smaller_is_better',\n  'score_name': 'MAGMA-pvalue',\n  'source_id': 'MONDO:0007455',\n  'target_id': 'GO:0007191',\n  'type': 'associated'},\n {'id': 'MAGMA_PATHWAY_78114',\n  'score': 3.0635e-07,\n  'score_direction': 'smaller_is_better',\n  'score_name': 'MAGMA-pvalue',\n  'source_id': 'MONDO:0007455',\n  'target_id': 'GO:1902680',\n  'type': 'associated'},\n {'id': 'MAGMA_PATHWAY_74720',\n  'score': 3.3683e-07,\n  'score_direction': 'smaller_is_better',\n  'score_name': 'MAGMA-pvalue',\n  'source_id': 'MONDO:0007455',\n  'target_id': 'GO:0003690',\n  'type': 'associated'},\n {'id': 'MAGMA_PATHWAY_79902',\n  'score': 4.2206e-07,\n  'score_direction': 'smaller_is_better',\n  'score_name': 'MAGMA-pvalue',\n  'source_id': 'MONDO:0007455',\n  'target_id': 'GO:1990837',\n  'type': 'associated'},\n {'id': 'MAGMA_PATHWAY_70886',\n  'score': 6.0389e-07,\n  'score_direction': 'smaller_is_better',\n  'score_name': 'MAGMA-pvalue',\n  'source_id': 'MONDO:0007455',\n  'target_id': 'GO:0010628',\n  'type': 'associated'},\n {'id': 'MAGMA_PATHWAY_77221',\n  'score': 9.7096e-07,\n  'score_direction': 'smaller_is_better',\n  'score_name': 'MAGMA-pvalue',\n  'source_id': 'MONDO:0007455',\n  'target_id': 'GO:0060681',\n  'type': 'associated'},\n {'id': 'MAGMA_PATHWAY_70677',\n  'score': 9.7257e-07,\n  'score_direction': 'smaller_is_better',\n  'score_name': 'MAGMA-pvalue',\n  'source_id': 'MONDO:0007455',\n  'target_id': 'GO:0009891',\n  'type': 'associated'},\n {'id': 'MAGMA_PATHWAY_78356',\n  'score': 1.9332e-06,\n  'score_direction': 'smaller_is_better',\n  'score_name': 'MAGMA-pvalue',\n  'source_id': 'MONDO:0007455',\n  'target_id': 'GO:1905288',\n  'type': 'associated'}]"
     },
     "metadata": {},
     "execution_count": 13
    }
   ],
   "source": [
    "response.keys()\n",
    "\n",
    "response.get('knowledge_graph').get('edges')"
   ]
  },
  {
   "cell_type": "code",
   "execution_count": 16,
   "metadata": {},
   "outputs": [],
   "source": [
    "import pandas as pd \n",
    "\n",
    "result_df = pd.DataFrame(response.get('knowledge_graph').get('edges'))"
   ]
  },
  {
   "cell_type": "code",
   "execution_count": 21,
   "metadata": {},
   "outputs": [
    {
     "output_type": "stream",
     "name": "stdout",
     "text": "<class 'pandas.core.frame.DataFrame'>\nRangeIndex: 14 entries, 0 to 13\nData columns (total 7 columns):\n #   Column           Non-Null Count  Dtype  \n---  ------           --------------  -----  \n 0   id               14 non-null     object \n 1   score            14 non-null     float64\n 2   score_direction  14 non-null     object \n 3   score_name       14 non-null     object \n 4   source_id        14 non-null     object \n 5   target_id        14 non-null     object \n 6   type             14 non-null     object \ndtypes: float64(1), object(6)\nmemory usage: 912.0+ bytes\n"
    }
   ],
   "source": [
    "result_df.info()"
   ]
  },
  {
   "cell_type": "code",
   "execution_count": 22,
   "metadata": {},
   "outputs": [
    {
     "output_type": "execute_result",
     "data": {
      "text/plain": "                    id         score    score_direction    score_name  \\\n0  MAGMA_PATHWAY_77076  3.687200e-09  smaller_is_better  MAGMA-pvalue   \n1  MAGMA_PATHWAY_74508  1.174800e-07  smaller_is_better  MAGMA-pvalue   \n2  MAGMA_PATHWAY_79125  1.479000e-07  smaller_is_better  MAGMA-pvalue   \n3  MAGMA_PATHWAY_79086  2.309100e-07  smaller_is_better  MAGMA-pvalue   \n4  MAGMA_PATHWAY_70381  2.549900e-07  smaller_is_better  MAGMA-pvalue   \n5  MAGMA_PATHWAY_70941  2.736800e-07  smaller_is_better  MAGMA-pvalue   \n6  MAGMA_PATHWAY_72196  2.977600e-07  smaller_is_better  MAGMA-pvalue   \n7  MAGMA_PATHWAY_78114  3.063500e-07  smaller_is_better  MAGMA-pvalue   \n8  MAGMA_PATHWAY_74720  3.368300e-07  smaller_is_better  MAGMA-pvalue   \n9  MAGMA_PATHWAY_79902  4.220600e-07  smaller_is_better  MAGMA-pvalue   \n\n       source_id   target_id        type  \n0  MONDO:0007455  GO:0051970  associated  \n1  MONDO:0007455  GO:0001067  associated  \n2  MONDO:0007455  GO:0003700  associated  \n3  MONDO:0007455  GO:0000987  associated  \n4  MONDO:0007455  GO:0030073  associated  \n5  MONDO:0007455  GO:0031016  associated  \n6  MONDO:0007455  GO:0007191  associated  \n7  MONDO:0007455  GO:1902680  associated  \n8  MONDO:0007455  GO:0003690  associated  \n9  MONDO:0007455  GO:1990837  associated  ",
      "text/html": "<div>\n<style scoped>\n    .dataframe tbody tr th:only-of-type {\n        vertical-align: middle;\n    }\n\n    .dataframe tbody tr th {\n        vertical-align: top;\n    }\n\n    .dataframe thead th {\n        text-align: right;\n    }\n</style>\n<table border=\"1\" class=\"dataframe\">\n  <thead>\n    <tr style=\"text-align: right;\">\n      <th></th>\n      <th>id</th>\n      <th>score</th>\n      <th>score_direction</th>\n      <th>score_name</th>\n      <th>source_id</th>\n      <th>target_id</th>\n      <th>type</th>\n    </tr>\n  </thead>\n  <tbody>\n    <tr>\n      <th>0</th>\n      <td>MAGMA_PATHWAY_77076</td>\n      <td>3.687200e-09</td>\n      <td>smaller_is_better</td>\n      <td>MAGMA-pvalue</td>\n      <td>MONDO:0007455</td>\n      <td>GO:0051970</td>\n      <td>associated</td>\n    </tr>\n    <tr>\n      <th>1</th>\n      <td>MAGMA_PATHWAY_74508</td>\n      <td>1.174800e-07</td>\n      <td>smaller_is_better</td>\n      <td>MAGMA-pvalue</td>\n      <td>MONDO:0007455</td>\n      <td>GO:0001067</td>\n      <td>associated</td>\n    </tr>\n    <tr>\n      <th>2</th>\n      <td>MAGMA_PATHWAY_79125</td>\n      <td>1.479000e-07</td>\n      <td>smaller_is_better</td>\n      <td>MAGMA-pvalue</td>\n      <td>MONDO:0007455</td>\n      <td>GO:0003700</td>\n      <td>associated</td>\n    </tr>\n    <tr>\n      <th>3</th>\n      <td>MAGMA_PATHWAY_79086</td>\n      <td>2.309100e-07</td>\n      <td>smaller_is_better</td>\n      <td>MAGMA-pvalue</td>\n      <td>MONDO:0007455</td>\n      <td>GO:0000987</td>\n      <td>associated</td>\n    </tr>\n    <tr>\n      <th>4</th>\n      <td>MAGMA_PATHWAY_70381</td>\n      <td>2.549900e-07</td>\n      <td>smaller_is_better</td>\n      <td>MAGMA-pvalue</td>\n      <td>MONDO:0007455</td>\n      <td>GO:0030073</td>\n      <td>associated</td>\n    </tr>\n    <tr>\n      <th>5</th>\n      <td>MAGMA_PATHWAY_70941</td>\n      <td>2.736800e-07</td>\n      <td>smaller_is_better</td>\n      <td>MAGMA-pvalue</td>\n      <td>MONDO:0007455</td>\n      <td>GO:0031016</td>\n      <td>associated</td>\n    </tr>\n    <tr>\n      <th>6</th>\n      <td>MAGMA_PATHWAY_72196</td>\n      <td>2.977600e-07</td>\n      <td>smaller_is_better</td>\n      <td>MAGMA-pvalue</td>\n      <td>MONDO:0007455</td>\n      <td>GO:0007191</td>\n      <td>associated</td>\n    </tr>\n    <tr>\n      <th>7</th>\n      <td>MAGMA_PATHWAY_78114</td>\n      <td>3.063500e-07</td>\n      <td>smaller_is_better</td>\n      <td>MAGMA-pvalue</td>\n      <td>MONDO:0007455</td>\n      <td>GO:1902680</td>\n      <td>associated</td>\n    </tr>\n    <tr>\n      <th>8</th>\n      <td>MAGMA_PATHWAY_74720</td>\n      <td>3.368300e-07</td>\n      <td>smaller_is_better</td>\n      <td>MAGMA-pvalue</td>\n      <td>MONDO:0007455</td>\n      <td>GO:0003690</td>\n      <td>associated</td>\n    </tr>\n    <tr>\n      <th>9</th>\n      <td>MAGMA_PATHWAY_79902</td>\n      <td>4.220600e-07</td>\n      <td>smaller_is_better</td>\n      <td>MAGMA-pvalue</td>\n      <td>MONDO:0007455</td>\n      <td>GO:1990837</td>\n      <td>associated</td>\n    </tr>\n  </tbody>\n</table>\n</div>"
     },
     "metadata": {},
     "execution_count": 22
    }
   ],
   "source": [
    "result_df.head(10)"
   ]
  },
  {
   "cell_type": "code",
   "execution_count": 26,
   "metadata": {},
   "outputs": [
    {
     "output_type": "stream",
     "name": "stdout",
     "text": "<class 'pandas.core.frame.DataFrame'>\nInt64Index: 4 entries, 0 to 3\nData columns (total 7 columns):\n #   Column           Non-Null Count  Dtype  \n---  ------           --------------  -----  \n 0   id               4 non-null      object \n 1   score            4 non-null      float64\n 2   score_direction  4 non-null      object \n 3   score_name       4 non-null      object \n 4   source_id        4 non-null      object \n 5   target_id        4 non-null      object \n 6   type             4 non-null      object \ndtypes: float64(1), object(6)\nmemory usage: 256.0+ bytes\n"
    }
   ],
   "source": [
    "low_df = result_df.query('score < 2.4e-07')\n",
    "\n",
    "low_df.info()"
   ]
  },
  {
   "cell_type": "code",
   "execution_count": 30,
   "metadata": {},
   "outputs": [
    {
     "output_type": "stream",
     "name": "stdout",
     "text": "<class 'pandas.core.frame.DataFrame'>\nInt64Index: 1 entries, 0 to 0\nData columns (total 7 columns):\n #   Column           Non-Null Count  Dtype  \n---  ------           --------------  -----  \n 0   id               1 non-null      object \n 1   score            1 non-null      float64\n 2   score_direction  1 non-null      object \n 3   score_name       1 non-null      object \n 4   source_id        1 non-null      object \n 5   target_id        1 non-null      object \n 6   type             1 non-null      object \ndtypes: float64(1), object(6)\nmemory usage: 64.0+ bytes\n"
    }
   ],
   "source": [
    "low2_df = result_df.loc[result_df['score'] < 1.0e-07]\n",
    "\n",
    "low2_df.info()"
   ]
  },
  {
   "cell_type": "code",
   "execution_count": null,
   "metadata": {},
   "outputs": [],
   "source": []
  }
 ],
 "metadata": {
  "language_info": {
   "codemirror_mode": {
    "name": "ipython",
    "version": 3
   },
   "file_extension": ".py",
   "mimetype": "text/x-python",
   "name": "python",
   "nbconvert_exporter": "python",
   "pygments_lexer": "ipython3",
   "version": "3.7.6-final"
  },
  "orig_nbformat": 2,
  "kernelspec": {
   "name": "python37664bittranslator37venvf1cbf396f456470aa90abfc234e01009",
   "display_name": "Python 3.7.6 64-bit ('translator_37': venv)"
  }
 },
 "nbformat": 4,
 "nbformat_minor": 2
}