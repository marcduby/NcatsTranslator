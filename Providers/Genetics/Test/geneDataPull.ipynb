{
 "cells": [
  {
   "cell_type": "code",
   "execution_count": 2,
   "metadata": {},
   "outputs": [],
   "source": [
    "# imports\n",
    "import json\n",
    "import requests\n",
    "\n"
   ]
  },
  {
   "cell_type": "code",
   "execution_count": 5,
   "metadata": {},
   "outputs": [],
   "source": [
    "# base url to use\n",
    "genetics_url = 'https://translator.broadinstitute.org/genetics_data_provider'\n"
   ]
  },
  {
   "cell_type": "code",
   "execution_count": 6,
   "metadata": {},
   "outputs": [
    {
     "output_type": "stream",
     "name": "stdout",
     "text": "the genetics predicates is \n{'disease': {'gene': ['associated'], 'pathway': ['associated']}, 'gene': {'disease': ['associated'], 'phenotype': ['associated']}, 'pathway': {'disease': ['associated'], 'phenotype': ['associated']}, 'phenotype': {'gene': ['associated'], 'pathway': ['associated']}}\n"
    }
   ],
   "source": [
    "# get the predicates\n",
    "genetics_predicate_url = genetics_url + \"/predicates\"\n",
    "\n",
    "# make the predicates request\n",
    "predicates = requests.get(genetics_predicate_url).json()\n",
    "\n",
    "print(\"the genetics predicates is \\n{}\".format(predicates))"
   ]
  },
  {
   "cell_type": "code",
   "execution_count": null,
   "metadata": {},
   "outputs": [],
   "source": []
  }
 ],
 "metadata": {
  "language_info": {
   "codemirror_mode": {
    "name": "ipython",
    "version": 3
   },
   "file_extension": ".py",
   "mimetype": "text/x-python",
   "name": "python",
   "nbconvert_exporter": "python",
   "pygments_lexer": "ipython3",
   "version": "3.6.9-final"
  },
  "orig_nbformat": 2,
  "kernelspec": {
   "name": "python36964bit8f227c4dd76346c3b8bc7b7f3ce5678e",
   "display_name": "Python 3.6.9 64-bit"
  }
 },
 "nbformat": 4,
 "nbformat_minor": 2
}