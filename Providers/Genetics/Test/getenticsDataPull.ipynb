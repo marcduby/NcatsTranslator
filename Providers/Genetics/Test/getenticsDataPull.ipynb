{
 "cells": [
  {
   "cell_type": "code",
   "execution_count": 1,
   "metadata": {},
   "outputs": [
    {
     "output_type": "stream",
     "name": "stdout",
     "text": "the json version is 2.0.9\nthe pandas version is 1.0.4\n"
    }
   ],
   "source": [
    "# imports\n",
    "import json\n",
    "import pandas as pd \n",
    "\n",
    "import sys; sys.path.insert(0, '../../..')\n",
    "import Lib.my_translator as trans \n",
    "\n",
    "print(\"the json version is {}\".format(json.__version__))\n",
    "print(\"the pandas version is {}\".format(pd.__version__))\n",
    "\n"
   ]
  },
  {
   "cell_type": "code",
   "execution_count": 2,
   "metadata": {},
   "outputs": [],
   "source": [
    "# genetics provider urls\n",
    "genetics_url = 'https://translator.broadinstitute.org/genetics_data_provider'\n",
    "genetics_query_url = genetics_url + \"/query\""
   ]
  },
  {
   "cell_type": "code",
   "execution_count": 3,
   "metadata": {},
   "outputs": [
    {
     "output_type": "stream",
     "name": "stdout",
     "text": "test map\n"
    }
   ],
   "source": [
    "# get a dataframe from query call\n",
    "query_df = trans.query_map_df('disease', 'MONDO:0007455', 'pathway', 'associated', genetics_query_url)"
   ]
  },
  {
   "cell_type": "code",
   "execution_count": 6,
   "metadata": {},
   "outputs": [
    {
     "output_type": "execute_result",
     "data": {
      "text/plain": "                    id         score    score_direction    score_name  \\\n0  MAGMA_PATHWAY_77076  3.687200e-09  smaller_is_better  MAGMA-pvalue   \n1  MAGMA_PATHWAY_74508  1.174800e-07  smaller_is_better  MAGMA-pvalue   \n2  MAGMA_PATHWAY_79125  1.479000e-07  smaller_is_better  MAGMA-pvalue   \n3  MAGMA_PATHWAY_79086  2.309100e-07  smaller_is_better  MAGMA-pvalue   \n4  MAGMA_PATHWAY_70381  2.549900e-07  smaller_is_better  MAGMA-pvalue   \n\n       source_id   target_id        type source_type target_type  \n0  MONDO:0007455  GO:0051970  associated     disease     pathway  \n1  MONDO:0007455  GO:0001067  associated     disease     pathway  \n2  MONDO:0007455  GO:0003700  associated     disease     pathway  \n3  MONDO:0007455  GO:0000987  associated     disease     pathway  \n4  MONDO:0007455  GO:0030073  associated     disease     pathway  ",
      "text/html": "<div>\n<style scoped>\n    .dataframe tbody tr th:only-of-type {\n        vertical-align: middle;\n    }\n\n    .dataframe tbody tr th {\n        vertical-align: top;\n    }\n\n    .dataframe thead th {\n        text-align: right;\n    }\n</style>\n<table border=\"1\" class=\"dataframe\">\n  <thead>\n    <tr style=\"text-align: right;\">\n      <th></th>\n      <th>id</th>\n      <th>score</th>\n      <th>score_direction</th>\n      <th>score_name</th>\n      <th>source_id</th>\n      <th>target_id</th>\n      <th>type</th>\n      <th>source_type</th>\n      <th>target_type</th>\n    </tr>\n  </thead>\n  <tbody>\n    <tr>\n      <th>0</th>\n      <td>MAGMA_PATHWAY_77076</td>\n      <td>3.687200e-09</td>\n      <td>smaller_is_better</td>\n      <td>MAGMA-pvalue</td>\n      <td>MONDO:0007455</td>\n      <td>GO:0051970</td>\n      <td>associated</td>\n      <td>disease</td>\n      <td>pathway</td>\n    </tr>\n    <tr>\n      <th>1</th>\n      <td>MAGMA_PATHWAY_74508</td>\n      <td>1.174800e-07</td>\n      <td>smaller_is_better</td>\n      <td>MAGMA-pvalue</td>\n      <td>MONDO:0007455</td>\n      <td>GO:0001067</td>\n      <td>associated</td>\n      <td>disease</td>\n      <td>pathway</td>\n    </tr>\n    <tr>\n      <th>2</th>\n      <td>MAGMA_PATHWAY_79125</td>\n      <td>1.479000e-07</td>\n      <td>smaller_is_better</td>\n      <td>MAGMA-pvalue</td>\n      <td>MONDO:0007455</td>\n      <td>GO:0003700</td>\n      <td>associated</td>\n      <td>disease</td>\n      <td>pathway</td>\n    </tr>\n    <tr>\n      <th>3</th>\n      <td>MAGMA_PATHWAY_79086</td>\n      <td>2.309100e-07</td>\n      <td>smaller_is_better</td>\n      <td>MAGMA-pvalue</td>\n      <td>MONDO:0007455</td>\n      <td>GO:0000987</td>\n      <td>associated</td>\n      <td>disease</td>\n      <td>pathway</td>\n    </tr>\n    <tr>\n      <th>4</th>\n      <td>MAGMA_PATHWAY_70381</td>\n      <td>2.549900e-07</td>\n      <td>smaller_is_better</td>\n      <td>MAGMA-pvalue</td>\n      <td>MONDO:0007455</td>\n      <td>GO:0030073</td>\n      <td>associated</td>\n      <td>disease</td>\n      <td>pathway</td>\n    </tr>\n  </tbody>\n</table>\n</div>"
     },
     "metadata": {},
     "execution_count": 6
    }
   ],
   "source": [
    "# describe the dataframe\n",
    "query_df.head()"
   ]
  },
  {
   "cell_type": "code",
   "execution_count": 7,
   "metadata": {},
   "outputs": [
    {
     "output_type": "stream",
     "name": "stdout",
     "text": "test map\n"
    },
    {
     "output_type": "execute_result",
     "data": {
      "text/plain": "                  id          score    score_direction    score_name  \\\n0  MAGMA_GENE_133676  2.333000e-209  smaller_is_better  MAGMA-pvalue   \n1  MAGMA_GENE_130648   1.437800e-83  smaller_is_better  MAGMA-pvalue   \n2  MAGMA_GENE_121098   2.220900e-75  smaller_is_better  MAGMA-pvalue   \n3  MAGMA_GENE_134154   2.756300e-65  smaller_is_better  MAGMA-pvalue   \n4  MAGMA_GENE_132707   2.840200e-58  smaller_is_better  MAGMA-pvalue   \n\n       source_id       target_id        type source_type target_type  \n0  MONDO:0007455   NCBIGene:6934  associated     disease        gene  \n1  MONDO:0007455  NCBIGene:54901  associated     disease        gene  \n2  MONDO:0007455  NCBIGene:10644  associated     disease        gene  \n3  MONDO:0007455   NCBIGene:7466  associated     disease        gene  \n4  MONDO:0007455  NCBIGene:63892  associated     disease        gene  ",
      "text/html": "<div>\n<style scoped>\n    .dataframe tbody tr th:only-of-type {\n        vertical-align: middle;\n    }\n\n    .dataframe tbody tr th {\n        vertical-align: top;\n    }\n\n    .dataframe thead th {\n        text-align: right;\n    }\n</style>\n<table border=\"1\" class=\"dataframe\">\n  <thead>\n    <tr style=\"text-align: right;\">\n      <th></th>\n      <th>id</th>\n      <th>score</th>\n      <th>score_direction</th>\n      <th>score_name</th>\n      <th>source_id</th>\n      <th>target_id</th>\n      <th>type</th>\n      <th>source_type</th>\n      <th>target_type</th>\n    </tr>\n  </thead>\n  <tbody>\n    <tr>\n      <th>0</th>\n      <td>MAGMA_GENE_133676</td>\n      <td>2.333000e-209</td>\n      <td>smaller_is_better</td>\n      <td>MAGMA-pvalue</td>\n      <td>MONDO:0007455</td>\n      <td>NCBIGene:6934</td>\n      <td>associated</td>\n      <td>disease</td>\n      <td>gene</td>\n    </tr>\n    <tr>\n      <th>1</th>\n      <td>MAGMA_GENE_130648</td>\n      <td>1.437800e-83</td>\n      <td>smaller_is_better</td>\n      <td>MAGMA-pvalue</td>\n      <td>MONDO:0007455</td>\n      <td>NCBIGene:54901</td>\n      <td>associated</td>\n      <td>disease</td>\n      <td>gene</td>\n    </tr>\n    <tr>\n      <th>2</th>\n      <td>MAGMA_GENE_121098</td>\n      <td>2.220900e-75</td>\n      <td>smaller_is_better</td>\n      <td>MAGMA-pvalue</td>\n      <td>MONDO:0007455</td>\n      <td>NCBIGene:10644</td>\n      <td>associated</td>\n      <td>disease</td>\n      <td>gene</td>\n    </tr>\n    <tr>\n      <th>3</th>\n      <td>MAGMA_GENE_134154</td>\n      <td>2.756300e-65</td>\n      <td>smaller_is_better</td>\n      <td>MAGMA-pvalue</td>\n      <td>MONDO:0007455</td>\n      <td>NCBIGene:7466</td>\n      <td>associated</td>\n      <td>disease</td>\n      <td>gene</td>\n    </tr>\n    <tr>\n      <th>4</th>\n      <td>MAGMA_GENE_132707</td>\n      <td>2.840200e-58</td>\n      <td>smaller_is_better</td>\n      <td>MAGMA-pvalue</td>\n      <td>MONDO:0007455</td>\n      <td>NCBIGene:63892</td>\n      <td>associated</td>\n      <td>disease</td>\n      <td>gene</td>\n    </tr>\n  </tbody>\n</table>\n</div>"
     },
     "metadata": {},
     "execution_count": 7
    }
   ],
   "source": [
    "# get a dataframe from query call\n",
    "disease_gene_df = trans.query_map_df('disease', 'MONDO:0007455', 'gene', 'associated', genetics_query_url)\n",
    "\n",
    "disease_gene_df.head()"
   ]
  },
  {
   "cell_type": "code",
   "execution_count": null,
   "metadata": {},
   "outputs": [],
   "source": []
  }
 ],
 "metadata": {
  "language_info": {
   "codemirror_mode": {
    "name": "ipython",
    "version": 3
   },
   "file_extension": ".py",
   "mimetype": "text/x-python",
   "name": "python",
   "nbconvert_exporter": "python",
   "pygments_lexer": "ipython3",
   "version": "3.7.6-final"
  },
  "orig_nbformat": 2,
  "kernelspec": {
   "name": "python37664bittranslator37venvf1cbf396f456470aa90abfc234e01009",
   "display_name": "Python 3.7.6 64-bit ('translator_37': venv)"
  }
 },
 "nbformat": 4,
 "nbformat_minor": 2
}