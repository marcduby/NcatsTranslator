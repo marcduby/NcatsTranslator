{
 "cells": [
  {
   "cell_type": "code",
   "execution_count": 1,
   "metadata": {},
   "outputs": [
    {
     "output_type": "stream",
     "name": "stdout",
     "text": "the json version is 2.0.9\nthe pandas version is 1.0.4\n"
    }
   ],
   "source": [
    "# imports\n",
    "import json\n",
    "import pandas as pd \n",
    "\n",
    "import sys; sys.path.insert(0, '../../..')\n",
    "import Lib.my_translator as trans \n",
    "\n",
    "print(\"the json version is {}\".format(json.__version__))\n",
    "print(\"the pandas version is {}\".format(pd.__version__))\n",
    "\n"
   ]
  },
  {
   "cell_type": "code",
   "execution_count": 2,
   "metadata": {},
   "outputs": [],
   "source": [
    "# genetics provider urls\n",
    "genetics_url = 'https://translator.broadinstitute.org/genetics_data_provider'\n",
    "genetics_query_url = genetics_url + \"/query\""
   ]
  },
  {
   "cell_type": "code",
   "execution_count": 3,
   "metadata": {},
   "outputs": [
    {
     "output_type": "stream",
     "name": "stdout",
     "text": "got 14 row dataframe\n"
    }
   ],
   "source": [
    "# get a dataframe from query call\n",
    "query_df = trans.query_map_df('disease', 'MONDO:0007455', 'pathway', 'associated', genetics_query_url)"
   ]
  },
  {
   "cell_type": "code",
   "execution_count": 5,
   "metadata": {},
   "outputs": [
    {
     "output_type": "execute_result",
     "data": {
      "text/plain": "                     id         score    score_direction    score_name  \\\n0   MAGMA_PATHWAY_77076  3.687200e-09  smaller_is_better  MAGMA-pvalue   \n1   MAGMA_PATHWAY_74508  1.174800e-07  smaller_is_better  MAGMA-pvalue   \n2   MAGMA_PATHWAY_79125  1.479000e-07  smaller_is_better  MAGMA-pvalue   \n3   MAGMA_PATHWAY_79086  2.309100e-07  smaller_is_better  MAGMA-pvalue   \n4   MAGMA_PATHWAY_70381  2.549900e-07  smaller_is_better  MAGMA-pvalue   \n5   MAGMA_PATHWAY_70941  2.736800e-07  smaller_is_better  MAGMA-pvalue   \n6   MAGMA_PATHWAY_72196  2.977600e-07  smaller_is_better  MAGMA-pvalue   \n7   MAGMA_PATHWAY_78114  3.063500e-07  smaller_is_better  MAGMA-pvalue   \n8   MAGMA_PATHWAY_74720  3.368300e-07  smaller_is_better  MAGMA-pvalue   \n9   MAGMA_PATHWAY_79902  4.220600e-07  smaller_is_better  MAGMA-pvalue   \n10  MAGMA_PATHWAY_70886  6.038900e-07  smaller_is_better  MAGMA-pvalue   \n11  MAGMA_PATHWAY_77221  9.709600e-07  smaller_is_better  MAGMA-pvalue   \n12  MAGMA_PATHWAY_70677  9.725700e-07  smaller_is_better  MAGMA-pvalue   \n13  MAGMA_PATHWAY_78356  1.933200e-06  smaller_is_better  MAGMA-pvalue   \n\n        source_id   target_id        type source_type target_type  \n0   MONDO:0007455  GO:0051970  associated     disease     pathway  \n1   MONDO:0007455  GO:0001067  associated     disease     pathway  \n2   MONDO:0007455  GO:0003700  associated     disease     pathway  \n3   MONDO:0007455  GO:0000987  associated     disease     pathway  \n4   MONDO:0007455  GO:0030073  associated     disease     pathway  \n5   MONDO:0007455  GO:0031016  associated     disease     pathway  \n6   MONDO:0007455  GO:0007191  associated     disease     pathway  \n7   MONDO:0007455  GO:1902680  associated     disease     pathway  \n8   MONDO:0007455  GO:0003690  associated     disease     pathway  \n9   MONDO:0007455  GO:1990837  associated     disease     pathway  \n10  MONDO:0007455  GO:0010628  associated     disease     pathway  \n11  MONDO:0007455  GO:0060681  associated     disease     pathway  \n12  MONDO:0007455  GO:0009891  associated     disease     pathway  \n13  MONDO:0007455  GO:1905288  associated     disease     pathway  ",
      "text/html": "<div>\n<style scoped>\n    .dataframe tbody tr th:only-of-type {\n        vertical-align: middle;\n    }\n\n    .dataframe tbody tr th {\n        vertical-align: top;\n    }\n\n    .dataframe thead th {\n        text-align: right;\n    }\n</style>\n<table border=\"1\" class=\"dataframe\">\n  <thead>\n    <tr style=\"text-align: right;\">\n      <th></th>\n      <th>id</th>\n      <th>score</th>\n      <th>score_direction</th>\n      <th>score_name</th>\n      <th>source_id</th>\n      <th>target_id</th>\n      <th>type</th>\n      <th>source_type</th>\n      <th>target_type</th>\n    </tr>\n  </thead>\n  <tbody>\n    <tr>\n      <th>0</th>\n      <td>MAGMA_PATHWAY_77076</td>\n      <td>3.687200e-09</td>\n      <td>smaller_is_better</td>\n      <td>MAGMA-pvalue</td>\n      <td>MONDO:0007455</td>\n      <td>GO:0051970</td>\n      <td>associated</td>\n      <td>disease</td>\n      <td>pathway</td>\n    </tr>\n    <tr>\n      <th>1</th>\n      <td>MAGMA_PATHWAY_74508</td>\n      <td>1.174800e-07</td>\n      <td>smaller_is_better</td>\n      <td>MAGMA-pvalue</td>\n      <td>MONDO:0007455</td>\n      <td>GO:0001067</td>\n      <td>associated</td>\n      <td>disease</td>\n      <td>pathway</td>\n    </tr>\n    <tr>\n      <th>2</th>\n      <td>MAGMA_PATHWAY_79125</td>\n      <td>1.479000e-07</td>\n      <td>smaller_is_better</td>\n      <td>MAGMA-pvalue</td>\n      <td>MONDO:0007455</td>\n      <td>GO:0003700</td>\n      <td>associated</td>\n      <td>disease</td>\n      <td>pathway</td>\n    </tr>\n    <tr>\n      <th>3</th>\n      <td>MAGMA_PATHWAY_79086</td>\n      <td>2.309100e-07</td>\n      <td>smaller_is_better</td>\n      <td>MAGMA-pvalue</td>\n      <td>MONDO:0007455</td>\n      <td>GO:0000987</td>\n      <td>associated</td>\n      <td>disease</td>\n      <td>pathway</td>\n    </tr>\n    <tr>\n      <th>4</th>\n      <td>MAGMA_PATHWAY_70381</td>\n      <td>2.549900e-07</td>\n      <td>smaller_is_better</td>\n      <td>MAGMA-pvalue</td>\n      <td>MONDO:0007455</td>\n      <td>GO:0030073</td>\n      <td>associated</td>\n      <td>disease</td>\n      <td>pathway</td>\n    </tr>\n    <tr>\n      <th>5</th>\n      <td>MAGMA_PATHWAY_70941</td>\n      <td>2.736800e-07</td>\n      <td>smaller_is_better</td>\n      <td>MAGMA-pvalue</td>\n      <td>MONDO:0007455</td>\n      <td>GO:0031016</td>\n      <td>associated</td>\n      <td>disease</td>\n      <td>pathway</td>\n    </tr>\n    <tr>\n      <th>6</th>\n      <td>MAGMA_PATHWAY_72196</td>\n      <td>2.977600e-07</td>\n      <td>smaller_is_better</td>\n      <td>MAGMA-pvalue</td>\n      <td>MONDO:0007455</td>\n      <td>GO:0007191</td>\n      <td>associated</td>\n      <td>disease</td>\n      <td>pathway</td>\n    </tr>\n    <tr>\n      <th>7</th>\n      <td>MAGMA_PATHWAY_78114</td>\n      <td>3.063500e-07</td>\n      <td>smaller_is_better</td>\n      <td>MAGMA-pvalue</td>\n      <td>MONDO:0007455</td>\n      <td>GO:1902680</td>\n      <td>associated</td>\n      <td>disease</td>\n      <td>pathway</td>\n    </tr>\n    <tr>\n      <th>8</th>\n      <td>MAGMA_PATHWAY_74720</td>\n      <td>3.368300e-07</td>\n      <td>smaller_is_better</td>\n      <td>MAGMA-pvalue</td>\n      <td>MONDO:0007455</td>\n      <td>GO:0003690</td>\n      <td>associated</td>\n      <td>disease</td>\n      <td>pathway</td>\n    </tr>\n    <tr>\n      <th>9</th>\n      <td>MAGMA_PATHWAY_79902</td>\n      <td>4.220600e-07</td>\n      <td>smaller_is_better</td>\n      <td>MAGMA-pvalue</td>\n      <td>MONDO:0007455</td>\n      <td>GO:1990837</td>\n      <td>associated</td>\n      <td>disease</td>\n      <td>pathway</td>\n    </tr>\n    <tr>\n      <th>10</th>\n      <td>MAGMA_PATHWAY_70886</td>\n      <td>6.038900e-07</td>\n      <td>smaller_is_better</td>\n      <td>MAGMA-pvalue</td>\n      <td>MONDO:0007455</td>\n      <td>GO:0010628</td>\n      <td>associated</td>\n      <td>disease</td>\n      <td>pathway</td>\n    </tr>\n    <tr>\n      <th>11</th>\n      <td>MAGMA_PATHWAY_77221</td>\n      <td>9.709600e-07</td>\n      <td>smaller_is_better</td>\n      <td>MAGMA-pvalue</td>\n      <td>MONDO:0007455</td>\n      <td>GO:0060681</td>\n      <td>associated</td>\n      <td>disease</td>\n      <td>pathway</td>\n    </tr>\n    <tr>\n      <th>12</th>\n      <td>MAGMA_PATHWAY_70677</td>\n      <td>9.725700e-07</td>\n      <td>smaller_is_better</td>\n      <td>MAGMA-pvalue</td>\n      <td>MONDO:0007455</td>\n      <td>GO:0009891</td>\n      <td>associated</td>\n      <td>disease</td>\n      <td>pathway</td>\n    </tr>\n    <tr>\n      <th>13</th>\n      <td>MAGMA_PATHWAY_78356</td>\n      <td>1.933200e-06</td>\n      <td>smaller_is_better</td>\n      <td>MAGMA-pvalue</td>\n      <td>MONDO:0007455</td>\n      <td>GO:1905288</td>\n      <td>associated</td>\n      <td>disease</td>\n      <td>pathway</td>\n    </tr>\n  </tbody>\n</table>\n</div>"
     },
     "metadata": {},
     "execution_count": 5
    }
   ],
   "source": [
    "# describe the dataframe\n",
    "query_df.head(15)"
   ]
  },
  {
   "cell_type": "code",
   "execution_count": 7,
   "metadata": {},
   "outputs": [
    {
     "output_type": "stream",
     "name": "stdout",
     "text": "test map\n"
    },
    {
     "output_type": "execute_result",
     "data": {
      "text/plain": "                  id          score    score_direction    score_name  \\\n0  MAGMA_GENE_133676  2.333000e-209  smaller_is_better  MAGMA-pvalue   \n1  MAGMA_GENE_130648   1.437800e-83  smaller_is_better  MAGMA-pvalue   \n2  MAGMA_GENE_121098   2.220900e-75  smaller_is_better  MAGMA-pvalue   \n3  MAGMA_GENE_134154   2.756300e-65  smaller_is_better  MAGMA-pvalue   \n4  MAGMA_GENE_132707   2.840200e-58  smaller_is_better  MAGMA-pvalue   \n\n       source_id       target_id        type source_type target_type  \n0  MONDO:0007455   NCBIGene:6934  associated     disease        gene  \n1  MONDO:0007455  NCBIGene:54901  associated     disease        gene  \n2  MONDO:0007455  NCBIGene:10644  associated     disease        gene  \n3  MONDO:0007455   NCBIGene:7466  associated     disease        gene  \n4  MONDO:0007455  NCBIGene:63892  associated     disease        gene  ",
      "text/html": "<div>\n<style scoped>\n    .dataframe tbody tr th:only-of-type {\n        vertical-align: middle;\n    }\n\n    .dataframe tbody tr th {\n        vertical-align: top;\n    }\n\n    .dataframe thead th {\n        text-align: right;\n    }\n</style>\n<table border=\"1\" class=\"dataframe\">\n  <thead>\n    <tr style=\"text-align: right;\">\n      <th></th>\n      <th>id</th>\n      <th>score</th>\n      <th>score_direction</th>\n      <th>score_name</th>\n      <th>source_id</th>\n      <th>target_id</th>\n      <th>type</th>\n      <th>source_type</th>\n      <th>target_type</th>\n    </tr>\n  </thead>\n  <tbody>\n    <tr>\n      <th>0</th>\n      <td>MAGMA_GENE_133676</td>\n      <td>2.333000e-209</td>\n      <td>smaller_is_better</td>\n      <td>MAGMA-pvalue</td>\n      <td>MONDO:0007455</td>\n      <td>NCBIGene:6934</td>\n      <td>associated</td>\n      <td>disease</td>\n      <td>gene</td>\n    </tr>\n    <tr>\n      <th>1</th>\n      <td>MAGMA_GENE_130648</td>\n      <td>1.437800e-83</td>\n      <td>smaller_is_better</td>\n      <td>MAGMA-pvalue</td>\n      <td>MONDO:0007455</td>\n      <td>NCBIGene:54901</td>\n      <td>associated</td>\n      <td>disease</td>\n      <td>gene</td>\n    </tr>\n    <tr>\n      <th>2</th>\n      <td>MAGMA_GENE_121098</td>\n      <td>2.220900e-75</td>\n      <td>smaller_is_better</td>\n      <td>MAGMA-pvalue</td>\n      <td>MONDO:0007455</td>\n      <td>NCBIGene:10644</td>\n      <td>associated</td>\n      <td>disease</td>\n      <td>gene</td>\n    </tr>\n    <tr>\n      <th>3</th>\n      <td>MAGMA_GENE_134154</td>\n      <td>2.756300e-65</td>\n      <td>smaller_is_better</td>\n      <td>MAGMA-pvalue</td>\n      <td>MONDO:0007455</td>\n      <td>NCBIGene:7466</td>\n      <td>associated</td>\n      <td>disease</td>\n      <td>gene</td>\n    </tr>\n    <tr>\n      <th>4</th>\n      <td>MAGMA_GENE_132707</td>\n      <td>2.840200e-58</td>\n      <td>smaller_is_better</td>\n      <td>MAGMA-pvalue</td>\n      <td>MONDO:0007455</td>\n      <td>NCBIGene:63892</td>\n      <td>associated</td>\n      <td>disease</td>\n      <td>gene</td>\n    </tr>\n  </tbody>\n</table>\n</div>"
     },
     "metadata": {},
     "execution_count": 7
    }
   ],
   "source": [
    "# get a dataframe from query call\n",
    "disease_gene_df = trans.query_map_df('disease', 'MONDO:0007455', 'gene', 'associated', genetics_query_url)\n",
    "\n",
    "disease_gene_df.head()"
   ]
  },
  {
   "cell_type": "code",
   "execution_count": null,
   "metadata": {},
   "outputs": [],
   "source": []
  }
 ],
 "metadata": {
  "language_info": {
   "codemirror_mode": {
    "name": "ipython",
    "version": 3
   },
   "file_extension": ".py",
   "mimetype": "text/x-python",
   "name": "python",
   "nbconvert_exporter": "python",
   "pygments_lexer": "ipython3",
   "version": "3.6.9-final"
  },
  "orig_nbformat": 2,
  "kernelspec": {
   "name": "python36964bit8f227c4dd76346c3b8bc7b7f3ce5678e",
   "display_name": "Python 3.6.9 64-bit"
  }
 },
 "nbformat": 4,
 "nbformat_minor": 2
}